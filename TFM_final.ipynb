{
  "nbformat": 4,
  "nbformat_minor": 0,
  "metadata": {
    "colab": {
      "name": "TFM.ipynb",
      "provenance": [],
      "collapsed_sections": [
        "Opp362vA89lz"
      ]
    },
    "kernelspec": {
      "name": "python3",
      "display_name": "Python 3"
    },
    "language_info": {
      "name": "python"
    },
    "accelerator": "GPU",
    "gpuClass": "standard"
  },
  "cells": [
    {
      "cell_type": "code",
      "source": [
        "from google.colab import drive\n",
        "\n",
        "drive.mount(\"/content/drive\")"
      ],
      "metadata": {
        "colab": {
          "base_uri": "https://localhost:8080/"
        },
        "id": "DTyLNjdMORcG",
        "outputId": "9a155e07-d1a3-46db-93f3-b31253ee14ca"
      },
      "execution_count": 2,
      "outputs": [
        {
          "output_type": "stream",
          "name": "stdout",
          "text": [
            "Drive already mounted at /content/drive; to attempt to forcibly remount, call drive.mount(\"/content/drive\", force_remount=True).\n"
          ]
        }
      ]
    },
    {
      "cell_type": "code",
      "source": [
        "import os\n",
        "from tqdm import tqdm"
      ],
      "metadata": {
        "id": "vGySuGHoTAVx"
      },
      "execution_count": 3,
      "outputs": []
    },
    {
      "cell_type": "code",
      "source": [
        "from IPython.display import Image, clear_output  # to display images\n",
        "#from utils.google_utils import gdrive_download  # to download models/datasets"
      ],
      "metadata": {
        "id": "b_y_9cXNh18H"
      },
      "execution_count": 4,
      "outputs": []
    },
    {
      "cell_type": "markdown",
      "source": [
        "#Analisis de las imágenes"
      ],
      "metadata": {
        "id": "S5Iohlbj3rLH"
      }
    },
    {
      "cell_type": "code",
      "source": [
        "ruta = \"/content/drive/MyDrive/TFM/PennFudanPed/Yolo\"\n",
        "#Numero de personas de cada clase\n",
        "n_pedW = 0\n",
        "n_pedS = 0\n",
        "\n",
        "#Numero de imagenes que contienen al menos un objeto de la clase\n",
        "n_imgW = 0\n",
        "n_imgS = 0\n",
        "\n",
        "#Lista imagenes con personas paradas\n",
        "list_imgS = []\n",
        "\n",
        "for i in tqdm(os.listdir(ruta)):\n",
        "  walking = False\n",
        "  standing = False\n",
        "  yolo_ruta = os.path.join(ruta,i)\n",
        "  #print(yolo_ruta)\n",
        "  with open('%s' % yolo_ruta) as fichero:\n",
        "       linea = fichero.readline() \n",
        "       #print(linea)\n",
        "       #contador = 1\n",
        "       persona = 0\n",
        "       while linea:\n",
        "         clase = linea[0]\n",
        "         #print(clase)\n",
        "         if clase == \"0\" and not walking:\n",
        "           walking = True\n",
        "           n_pedW += 1\n",
        "           n_imgW += 1\n",
        "         elif clase == \"1\" and not standing:\n",
        "           standing = True\n",
        "           n_pedS += 1\n",
        "           n_imgS += 1\n",
        "           list_imgS.append(i)\n",
        "         elif clase == \"0\":\n",
        "           n_pedW += 1\n",
        "         elif clase == \"1\":\n",
        "           n_pedS += 1\n",
        "         linea = fichero.readline() \n",
        "\n",
        "print(\"\\nExisten \", n_pedW, \" personas andando y \", n_pedS, \" personas paradas, habiendo \", n_imgW, \n",
        "      \" imagenes con personas andando y \", n_imgS, \" imagenes con personas paradas\")\n",
        "print(list_imgS)  "
      ],
      "metadata": {
        "id": "RttK0WeROUYX"
      },
      "execution_count": null,
      "outputs": []
    },
    {
      "cell_type": "markdown",
      "source": [
        "#Yolo v5"
      ],
      "metadata": {
        "id": "9ycN-P_t3v3Z"
      }
    },
    {
      "cell_type": "code",
      "source": [
        "!git clone https://github.com/ultralytics/yolov5  # clone\n",
        "%cd yolov5\n",
        "%pip install -qr requirements.txt  # install\n",
        "\n",
        "import torch\n",
        "import utils\n",
        "display = utils.notebook_init()  # checks"
      ],
      "metadata": {
        "id": "LeM-03LCaKsU"
      },
      "execution_count": null,
      "outputs": []
    },
    {
      "cell_type": "markdown",
      "source": [
        "#Una clase"
      ],
      "metadata": {
        "id": "oWDXXK0z82o5"
      }
    },
    {
      "cell_type": "code",
      "source": [
        "%cat /content/drive/MyDrive/TFM/PennFudanPed/TFM_pedestrian_Yolov5_one_class/data.yaml"
      ],
      "metadata": {
        "id": "1M2mcQAw84Sc"
      },
      "execution_count": null,
      "outputs": []
    },
    {
      "cell_type": "code",
      "source": [
        "# train yolov5s on custom data for 100 epochs\n",
        "# time its performance\n",
        "%%time\n",
        "%cd /content/yolov5/\n",
        "!python train.py --img 416 --batch 16 --epochs 50 --data /content/drive/MyDrive/TFM/PennFudanPed/TFM_pedestrian_Yolov5_one_class/data.yaml --cfg ./models/yolov5l.yaml --weights yolov5l.pt --name yolov5l_results  --cache"
      ],
      "metadata": {
        "id": "dQeXpEjG86oZ"
      },
      "execution_count": null,
      "outputs": []
    },
    {
      "cell_type": "code",
      "source": [
        "# Start tensorboard\n",
        "# Launch after you have started training\n",
        "# logs save in the folder \"runs\"\n",
        "%load_ext tensorboard\n",
        "%tensorboard --logdir runs"
      ],
      "metadata": {
        "id": "RRzR6WyL9HiX"
      },
      "execution_count": null,
      "outputs": []
    },
    {
      "cell_type": "code",
      "source": [
        "# first, display our ground truth data\n",
        "print(\"GROUND TRUTH TEST DATA:\")\n",
        "Image(filename='/content/yolov5/runs/train/yolov5l_results/train_batch0.jpg', width=900)"
      ],
      "metadata": {
        "id": "bv5_ZiLH9MJU"
      },
      "execution_count": null,
      "outputs": []
    },
    {
      "cell_type": "code",
      "source": [
        "# first, display our ground truth data\n",
        "print(\"Prediction TEST DATA:\")\n",
        "Image(filename='/content/yolov5/runs/train/yolov5l_results/val_batch0_pred.jpg', width=900)"
      ],
      "metadata": {
        "id": "GIJ94kJq9N0P"
      },
      "execution_count": null,
      "outputs": []
    },
    {
      "cell_type": "code",
      "source": [
        "%cd /content/yolov5/\n",
        "!python val.py --weights /content/yolov5/runs/train/yolov5l_results3/weights/best.pt --data /content/drive/MyDrive/TFM/PennFudanPed/TFM_pedestrian_Yolov5_one_class/data.yaml --img 416 --iou 0.65 --half --task test"
      ],
      "metadata": {
        "id": "OcKbx8t1GVkO"
      },
      "execution_count": null,
      "outputs": []
    },
    {
      "cell_type": "markdown",
      "source": [
        "# Yolov7"
      ],
      "metadata": {
        "id": "cCF6tSsY6BUS"
      }
    },
    {
      "cell_type": "code",
      "source": [
        "# Download YOLOv7 repository and install requirements\n",
        "%cd content\n",
        "!git clone https://github.com/WongKinYiu/yolov7\n",
        "%cd yolov7\n",
        "!pip install -r requirements.txt"
      ],
      "metadata": {
        "id": "0F9Rk0vF6EHI"
      },
      "execution_count": null,
      "outputs": []
    },
    {
      "cell_type": "code",
      "source": [
        "%cat /content/drive/MyDrive/TFM/PennFudanPed/TFM_pedestrian_one_class/data.yaml"
      ],
      "metadata": {
        "id": "VFnmyIGx6I8G"
      },
      "execution_count": null,
      "outputs": []
    },
    {
      "cell_type": "code",
      "source": [
        "# run this cell to begin training\n",
        "%%time\n",
        "%cd /content/yolov7\n",
        "!python train.py --batch 16 --cfg cfg/training/yolov7.yaml --epochs 55 --data /content/drive/MyDrive/TFM/PennFudanPed/TFM_pedestrian_Yolov7_one_class/data.yaml  --weights 'yolov7.pt' --device 0 --name yolov7_results  --cache"
      ],
      "metadata": {
        "id": "CIjP23Ac6WRF"
      },
      "execution_count": null,
      "outputs": []
    },
    {
      "cell_type": "code",
      "source": [
        "# first, display our ground truth data\n",
        "print(\"GROUND TRUTH TEST DATA:\")\n",
        "Image(filename='/content/yolov5/yolov7/runs/train/yolov7_results/train_batch0.jpg', width=900)"
      ],
      "metadata": {
        "id": "SleGOeb4AKe6"
      },
      "execution_count": null,
      "outputs": []
    },
    {
      "cell_type": "code",
      "source": [
        "# first, display our ground truth data\n",
        "print(\"Prediction TEST DATA:\")\n",
        "Image(filename='/content/yolov5/yolov7/runs/train/yolov7_results/test_batch0_pred.jpg', width=900)"
      ],
      "metadata": {
        "id": "HHYi0zPCAMcj"
      },
      "execution_count": null,
      "outputs": []
    }
  ]
}